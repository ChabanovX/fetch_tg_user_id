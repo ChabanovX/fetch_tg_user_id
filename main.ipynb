{
 "cells": [
  {
   "cell_type": "markdown",
   "metadata": {},
   "source": [
    "# Example of getting the telegram profile by stickers he created. "
   ]
  },
  {
   "cell_type": "code",
   "execution_count": 9,
   "metadata": {},
   "outputs": [],
   "source": [
    "from telethon import TelegramClient\n",
    "from telethon.tl.functions.messages import GetStickerSetRequest\n",
    "from telethon.tl.types import InputStickerSetShortName"
   ]
  },
  {
   "cell_type": "code",
   "execution_count": 10,
   "metadata": {},
   "outputs": [],
   "source": [
    "# Getting api-keys code. You put your keys below by yourself.\n",
    "import os\n",
    "\n",
    "api_id = os.getenv('TELEGRAM_API_ID')\n",
    "api_hash = os.getenv('TELEGRAM_API_HASH')"
   ]
  },
  {
   "cell_type": "code",
   "execution_count": null,
   "metadata": {},
   "outputs": [],
   "source": [
    "# Click \"SHARE\" and copy link. Paste last word there.\n",
    "sticker_pack_name = \"\""
   ]
  },
  {
   "cell_type": "code",
   "execution_count": 12,
   "metadata": {},
   "outputs": [],
   "source": [
    "async def get_creator_id(client, short_name):\n",
    "    result = await client(GetStickerSetRequest(\n",
    "        stickerset=InputStickerSetShortName(short_name=short_name),\n",
    "        hash=0\n",
    "    ))\n",
    "    \n",
    "    # Getting id set\n",
    "    sticker_set_id = result.set.id\n",
    "    \n",
    "    # Shift 32 bits for id \n",
    "    creator_id = sticker_set_id >> 32\n",
    "    \n",
    "    return creator_id"
   ]
  },
  {
   "cell_type": "code",
   "execution_count": 13,
   "metadata": {},
   "outputs": [],
   "source": [
    "async def main(): \n",
    "    async with TelegramClient('anon', api_id, api_hash) as client:\n",
    "        creator_id = await get_creator_id(client, sticker_pack_name)\n",
    "        print(f\"ID of the stickerpack creator: {creator_id}\")"
   ]
  },
  {
   "cell_type": "code",
   "execution_count": 22,
   "metadata": {},
   "outputs": [
    {
     "name": "stdout",
     "output_type": "stream",
     "text": [
      "Detected an existing event loop. Using it to run the coroutine.\n",
      "ID of the stickerpack creator: 164290113\n"
     ]
    }
   ],
   "source": [
    "import asyncio\n",
    "\n",
    "# This machination is used as we use Notebook as a runner.\n",
    "\n",
    "# Check if there's already an event loop running\n",
    "try:\n",
    "    loop = asyncio.get_running_loop()\n",
    "except RuntimeError:\n",
    "    loop = None\n",
    "\n",
    "if loop and loop.is_running():\n",
    "    print(\"Detected an existing event loop. Using it to run the coroutine.\")\n",
    "    # Run the coroutine in the current event loop\n",
    "    result = await main()\n",
    "else:\n",
    "    # No existing loop, safe to use asyncio.run\n",
    "    asyncio.run(main())"
   ]
  },
  {
   "cell_type": "markdown",
   "metadata": {},
   "source": [
    "## At this point you can look up user's profile by bots like @tgdb_bot"
   ]
  }
 ],
 "metadata": {
  "kernelspec": {
   "display_name": "Python (random_python_shit)",
   "language": "python",
   "name": "random_python_shit"
  },
  "language_info": {
   "codemirror_mode": {
    "name": "ipython",
    "version": 3
   },
   "file_extension": ".py",
   "mimetype": "text/x-python",
   "name": "python",
   "nbconvert_exporter": "python",
   "pygments_lexer": "ipython3",
   "version": "3.12.3"
  }
 },
 "nbformat": 4,
 "nbformat_minor": 2
}
