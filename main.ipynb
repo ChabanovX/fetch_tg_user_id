{
 "cells": [
  {
   "cell_type": "markdown",
   "metadata": {},
   "source": [
    "# Example of getting the telegram profile by stickers he created."
   ]
  },
  {
   "cell_type": "code",
   "execution_count": 121,
   "metadata": {},
   "outputs": [],
   "source": [
    "from telethon import TelegramClient\n",
    "from telethon.tl.functions.messages import GetStickerSetRequest\n",
    "from telethon.tl.types import InputStickerSetShortName"
   ]
  },
  {
   "cell_type": "code",
   "execution_count": 122,
   "metadata": {},
   "outputs": [],
   "source": [
    "# Getting api-keys code. You put your keys below by yourself.\n",
    "import os\n",
    "\n",
    "api_id = os.getenv('TELEGRAM_API_ID')\n",
    "api_hash = os.getenv('TELEGRAM_API_HASH')"
   ]
  },
  {
   "cell_type": "code",
   "execution_count": 123,
   "metadata": {},
   "outputs": [],
   "source": [
    "# Click \"SHARE\" and copy link. Paste last word there.\n",
    "sticker_pack_name = \"some_name\""
   ]
  },
  {
   "cell_type": "code",
   "execution_count": 124,
   "metadata": {},
   "outputs": [],
   "source": [
    "async def get_creator_id(client, short_name):\n",
    "    result = await client(GetStickerSetRequest(\n",
    "        stickerset=InputStickerSetShortName(short_name=short_name),\n",
    "        hash=0))\n",
    "    \n",
    "    # Getting id set\n",
    "    sticker_set_id = result.set.id\n",
    "    \n",
    "    # Shift 32 bits for id \n",
    "    creator_id = sticker_set_id >> 32\n",
    "    \n",
    "    return creator_id"
   ]
  },
  {
   "cell_type": "code",
   "execution_count": 125,
   "metadata": {},
   "outputs": [],
   "source": [
    "async def main(): \n",
    "    async with TelegramClient('anon', api_id, api_hash) as client:\n",
    "        creator_id = await get_creator_id(client, sticker_pack_name)\n",
    "        print(f\"ID of the stickerpack creator: {creator_id}\")\n",
    "        return creator_id"
   ]
  },
  {
   "cell_type": "code",
   "execution_count": 126,
   "metadata": {},
   "outputs": [
    {
     "name": "stdout",
     "output_type": "stream",
     "text": [
      "ID of the stickerpack creator: 375280910\n"
     ]
    }
   ],
   "source": [
    "import asyncio\n",
    "\n",
    "# This machination is used as we use Notebook as a runner.\n",
    "\n",
    "# Check if there's already an event loop running\n",
    "try:\n",
    "    loop = asyncio.get_running_loop()\n",
    "except RuntimeError:\n",
    "    loop = None\n",
    "\n",
    "if loop and loop.is_running():\n",
    "    # Run the coroutine in the current event loop\n",
    "    users_id = await main()\n",
    "else:\n",
    "    # No existing loop, safe to use asyncio.run\n",
    "    asyncio.run(main())"
   ]
  },
  {
   "cell_type": "markdown",
   "metadata": {},
   "source": [
    "Now let's proceed turning user ID into user's profile"
   ]
  },
  {
   "cell_type": "code",
   "execution_count": 127,
   "metadata": {},
   "outputs": [],
   "source": [
    "async def get_creator_id():\n",
    "    async with TelegramClient('anon', api_id, api_hash) as client: \n",
    "        user = await client.get_entity(users_id)\n",
    "        print(f'User ID: {user.id}')\n",
    "        print(f'First Name: {user.first_name}')\n",
    "        print(f'Last Name: {user.last_name}')\n",
    "        print(f'Username: {user.username}')\n",
    "        print(f'Phone: {user.phone}')"
   ]
  },
  {
   "cell_type": "markdown",
   "metadata": {},
   "source": [
    "Proceed with execution"
   ]
  },
  {
   "cell_type": "code",
   "execution_count": 128,
   "metadata": {},
   "outputs": [
    {
     "name": "stdout",
     "output_type": "stream",
     "text": [
      "User was not found due some telegram restrictions. \n",
      "Full error: Could not find the input entity for PeerUser(user_id=375280910) (PeerUser). Please read https://docs.telethon.dev/en/stable/concepts/entities.html to find out more details.\n"
     ]
    }
   ],
   "source": [
    "try:\n",
    "    loop = asyncio.get_running_loop()\n",
    "except RuntimeError:\n",
    "    loop = None\n",
    "\n",
    "if loop and loop.is_running():\n",
    "    # Run the coroutine in the current event loop\n",
    "    try:\n",
    "        await get_creator_id()\n",
    "    except ValueError as e:\n",
    "        print(f\"User was not found due some telegram restrictions. \\nFull error: {e}\")\n",
    "else:\n",
    "    # No existing loop, safe to use asyncio.run\n",
    "    asyncio.run(get_creator_id())"
   ]
  }
 ],
 "metadata": {
  "kernelspec": {
   "display_name": "Python 3",
   "language": "python",
   "name": "python3"
  },
  "language_info": {
   "codemirror_mode": {
    "name": "ipython",
    "version": 3
   },
   "file_extension": ".py",
   "mimetype": "text/x-python",
   "name": "python",
   "nbconvert_exporter": "python",
   "pygments_lexer": "ipython3",
   "version": "3.12.3"
  }
 },
 "nbformat": 4,
 "nbformat_minor": 2
}
